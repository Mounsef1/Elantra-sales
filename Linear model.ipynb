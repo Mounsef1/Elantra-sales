{
  "nbformat": 4,
  "nbformat_minor": 0,
  "metadata": {
    "colab": {
      "name": "Untitled7.ipynb",
      "provenance": [],
      "authorship_tag": "ABX9TyOS1lrCTBHXlJrV7+HsbPh0",
      "include_colab_link": true
    },
    "kernelspec": {
      "name": "python3",
      "display_name": "Python 3"
    },
    "language_info": {
      "name": "python"
    }
  },
  "cells": [
    {
      "cell_type": "markdown",
      "metadata": {
        "id": "view-in-github",
        "colab_type": "text"
      },
      "source": [
        "<a href=\"https://colab.research.google.com/github/Mounsef1/Elantra-sales/blob/main/Linear%20model.ipynb\" target=\"_parent\"><img src=\"https://colab.research.google.com/assets/colab-badge.svg\" alt=\"Open In Colab\"/></a>"
      ]
    },
    {
      "cell_type": "code",
      "metadata": {
        "colab": {
          "base_uri": "https://localhost:8080/"
        },
        "id": "FvJsPwLYYN4_",
        "outputId": "f7f9b506-6862-4ab8-8cc3-c97e87c2feb7"
      },
      "source": [
        "from tensorflow.python.client import device_lib\n",
        "device_lib.list_local_devices()"
      ],
      "execution_count": 41,
      "outputs": [
        {
          "output_type": "execute_result",
          "data": {
            "text/plain": [
              "[name: \"/device:CPU:0\"\n",
              " device_type: \"CPU\"\n",
              " memory_limit: 268435456\n",
              " locality {\n",
              " }\n",
              " incarnation: 14687296328944288979]"
            ]
          },
          "metadata": {},
          "execution_count": 41
        }
      ]
    },
    {
      "cell_type": "code",
      "metadata": {
        "colab": {
          "base_uri": "https://localhost:8080/"
        },
        "id": "i-8m-Al4YX_T",
        "outputId": "7ba42157-c288-411e-84c2-0ad5c928e2f4"
      },
      "source": [
        "from google.colab import drive\n",
        "drive.mount('/content/drive')"
      ],
      "execution_count": 42,
      "outputs": [
        {
          "output_type": "stream",
          "name": "stdout",
          "text": [
            "Drive already mounted at /content/drive; to attempt to forcibly remount, call drive.mount(\"/content/drive\", force_remount=True).\n"
          ]
        }
      ]
    },
    {
      "cell_type": "code",
      "metadata": {
        "id": "YrFsLe54YkJJ"
      },
      "source": [
        "#Import useful packages\n",
        "import pandas as pd  \n",
        "import numpy as np  \n",
        "import math\n",
        "import matplotlib.pyplot as plt  \n",
        "import seaborn as seabornInstance \n",
        "import statsmodels.api as sm\n",
        "from sklearn.model_selection import train_test_split \n",
        "from sklearn.linear_model import LinearRegression\n",
        "from sklearn import metrics\n",
        "%matplotlib inline"
      ],
      "execution_count": 43,
      "outputs": []
    },
    {
      "cell_type": "code",
      "metadata": {
        "colab": {
          "base_uri": "https://localhost:8080/",
          "height": 206
        },
        "id": "6nRtJRGFYpFa",
        "outputId": "0bdfc85d-7bc2-411c-cfb5-deabb95d368a"
      },
      "source": [
        "#Read data\n",
        "data=pd.read_csv('/content/drive/My Drive/Elantra.csv')\n",
        "data.head()"
      ],
      "execution_count": 44,
      "outputs": [
        {
          "output_type": "execute_result",
          "data": {
            "text/html": [
              "<div>\n",
              "<style scoped>\n",
              "    .dataframe tbody tr th:only-of-type {\n",
              "        vertical-align: middle;\n",
              "    }\n",
              "\n",
              "    .dataframe tbody tr th {\n",
              "        vertical-align: top;\n",
              "    }\n",
              "\n",
              "    .dataframe thead th {\n",
              "        text-align: right;\n",
              "    }\n",
              "</style>\n",
              "<table border=\"1\" class=\"dataframe\">\n",
              "  <thead>\n",
              "    <tr style=\"text-align: right;\">\n",
              "      <th></th>\n",
              "      <th>Month</th>\n",
              "      <th>Year</th>\n",
              "      <th>ElantraSales</th>\n",
              "      <th>Unemployment</th>\n",
              "      <th>Queries</th>\n",
              "      <th>CPI.Energy</th>\n",
              "      <th>CPI.All</th>\n",
              "    </tr>\n",
              "  </thead>\n",
              "  <tbody>\n",
              "    <tr>\n",
              "      <th>0</th>\n",
              "      <td>1</td>\n",
              "      <td>2010</td>\n",
              "      <td>7690</td>\n",
              "      <td>9.7</td>\n",
              "      <td>153</td>\n",
              "      <td>213.377</td>\n",
              "      <td>217.466</td>\n",
              "    </tr>\n",
              "    <tr>\n",
              "      <th>1</th>\n",
              "      <td>1</td>\n",
              "      <td>2011</td>\n",
              "      <td>9659</td>\n",
              "      <td>9.1</td>\n",
              "      <td>259</td>\n",
              "      <td>229.353</td>\n",
              "      <td>221.082</td>\n",
              "    </tr>\n",
              "    <tr>\n",
              "      <th>2</th>\n",
              "      <td>1</td>\n",
              "      <td>2012</td>\n",
              "      <td>10900</td>\n",
              "      <td>8.2</td>\n",
              "      <td>354</td>\n",
              "      <td>244.178</td>\n",
              "      <td>227.666</td>\n",
              "    </tr>\n",
              "    <tr>\n",
              "      <th>3</th>\n",
              "      <td>1</td>\n",
              "      <td>2013</td>\n",
              "      <td>12174</td>\n",
              "      <td>7.9</td>\n",
              "      <td>230</td>\n",
              "      <td>242.560</td>\n",
              "      <td>231.321</td>\n",
              "    </tr>\n",
              "    <tr>\n",
              "      <th>4</th>\n",
              "      <td>1</td>\n",
              "      <td>2014</td>\n",
              "      <td>15326</td>\n",
              "      <td>6.6</td>\n",
              "      <td>232</td>\n",
              "      <td>247.575</td>\n",
              "      <td>234.933</td>\n",
              "    </tr>\n",
              "  </tbody>\n",
              "</table>\n",
              "</div>"
            ],
            "text/plain": [
              "   Month  Year  ElantraSales  Unemployment  Queries  CPI.Energy  CPI.All\n",
              "0      1  2010          7690           9.7      153     213.377  217.466\n",
              "1      1  2011          9659           9.1      259     229.353  221.082\n",
              "2      1  2012         10900           8.2      354     244.178  227.666\n",
              "3      1  2013         12174           7.9      230     242.560  231.321\n",
              "4      1  2014         15326           6.6      232     247.575  234.933"
            ]
          },
          "metadata": {},
          "execution_count": 44
        }
      ]
    },
    {
      "cell_type": "code",
      "metadata": {
        "colab": {
          "base_uri": "https://localhost:8080/"
        },
        "id": "onhKi3VoZGPx",
        "outputId": "8163e3be-894b-4ee6-fbbe-96e51599bb65"
      },
      "source": [
        "data.shape"
      ],
      "execution_count": 45,
      "outputs": [
        {
          "output_type": "execute_result",
          "data": {
            "text/plain": [
              "(50, 7)"
            ]
          },
          "metadata": {},
          "execution_count": 45
        }
      ]
    },
    {
      "cell_type": "code",
      "metadata": {
        "colab": {
          "base_uri": "https://localhost:8080/",
          "height": 300
        },
        "id": "8ogsHep4ZJpH",
        "outputId": "0d4ff997-bac3-4a8a-fd5f-253c95ac3a4c"
      },
      "source": [
        "data.describe()"
      ],
      "execution_count": 46,
      "outputs": [
        {
          "output_type": "execute_result",
          "data": {
            "text/html": [
              "<div>\n",
              "<style scoped>\n",
              "    .dataframe tbody tr th:only-of-type {\n",
              "        vertical-align: middle;\n",
              "    }\n",
              "\n",
              "    .dataframe tbody tr th {\n",
              "        vertical-align: top;\n",
              "    }\n",
              "\n",
              "    .dataframe thead th {\n",
              "        text-align: right;\n",
              "    }\n",
              "</style>\n",
              "<table border=\"1\" class=\"dataframe\">\n",
              "  <thead>\n",
              "    <tr style=\"text-align: right;\">\n",
              "      <th></th>\n",
              "      <th>Month</th>\n",
              "      <th>Year</th>\n",
              "      <th>ElantraSales</th>\n",
              "      <th>Unemployment</th>\n",
              "      <th>Queries</th>\n",
              "      <th>CPI.Energy</th>\n",
              "      <th>CPI.All</th>\n",
              "    </tr>\n",
              "  </thead>\n",
              "  <tbody>\n",
              "    <tr>\n",
              "      <th>count</th>\n",
              "      <td>50.000000</td>\n",
              "      <td>50.000000</td>\n",
              "      <td>50.000000</td>\n",
              "      <td>50.000000</td>\n",
              "      <td>50.000000</td>\n",
              "      <td>50.000000</td>\n",
              "      <td>50.000000</td>\n",
              "    </tr>\n",
              "    <tr>\n",
              "      <th>mean</th>\n",
              "      <td>6.300000</td>\n",
              "      <td>2011.600000</td>\n",
              "      <td>16005.440000</td>\n",
              "      <td>8.422000</td>\n",
              "      <td>263.480000</td>\n",
              "      <td>236.945280</td>\n",
              "      <td>226.739040</td>\n",
              "    </tr>\n",
              "    <tr>\n",
              "      <th>std</th>\n",
              "      <td>3.558548</td>\n",
              "      <td>1.212183</td>\n",
              "      <td>4887.924676</td>\n",
              "      <td>0.951538</td>\n",
              "      <td>77.982007</td>\n",
              "      <td>15.393399</td>\n",
              "      <td>5.942194</td>\n",
              "    </tr>\n",
              "    <tr>\n",
              "      <th>min</th>\n",
              "      <td>1.000000</td>\n",
              "      <td>2010.000000</td>\n",
              "      <td>7690.000000</td>\n",
              "      <td>6.600000</td>\n",
              "      <td>130.000000</td>\n",
              "      <td>204.161000</td>\n",
              "      <td>217.251000</td>\n",
              "    </tr>\n",
              "    <tr>\n",
              "      <th>25%</th>\n",
              "      <td>3.000000</td>\n",
              "      <td>2011.000000</td>\n",
              "      <td>12560.500000</td>\n",
              "      <td>7.725000</td>\n",
              "      <td>224.750000</td>\n",
              "      <td>230.061750</td>\n",
              "      <td>221.265500</td>\n",
              "    </tr>\n",
              "    <tr>\n",
              "      <th>50%</th>\n",
              "      <td>6.000000</td>\n",
              "      <td>2012.000000</td>\n",
              "      <td>15624.500000</td>\n",
              "      <td>8.250000</td>\n",
              "      <td>262.500000</td>\n",
              "      <td>244.388000</td>\n",
              "      <td>227.902000</td>\n",
              "    </tr>\n",
              "    <tr>\n",
              "      <th>75%</th>\n",
              "      <td>9.000000</td>\n",
              "      <td>2013.000000</td>\n",
              "      <td>19197.250000</td>\n",
              "      <td>9.100000</td>\n",
              "      <td>311.000000</td>\n",
              "      <td>247.061750</td>\n",
              "      <td>231.693250</td>\n",
              "    </tr>\n",
              "    <tr>\n",
              "      <th>max</th>\n",
              "      <td>12.000000</td>\n",
              "      <td>2014.000000</td>\n",
              "      <td>26153.000000</td>\n",
              "      <td>9.900000</td>\n",
              "      <td>427.000000</td>\n",
              "      <td>256.389000</td>\n",
              "      <td>235.169000</td>\n",
              "    </tr>\n",
              "  </tbody>\n",
              "</table>\n",
              "</div>"
            ],
            "text/plain": [
              "           Month         Year  ElantraSales  ...     Queries  CPI.Energy     CPI.All\n",
              "count  50.000000    50.000000     50.000000  ...   50.000000   50.000000   50.000000\n",
              "mean    6.300000  2011.600000  16005.440000  ...  263.480000  236.945280  226.739040\n",
              "std     3.558548     1.212183   4887.924676  ...   77.982007   15.393399    5.942194\n",
              "min     1.000000  2010.000000   7690.000000  ...  130.000000  204.161000  217.251000\n",
              "25%     3.000000  2011.000000  12560.500000  ...  224.750000  230.061750  221.265500\n",
              "50%     6.000000  2012.000000  15624.500000  ...  262.500000  244.388000  227.902000\n",
              "75%     9.000000  2013.000000  19197.250000  ...  311.000000  247.061750  231.693250\n",
              "max    12.000000  2014.000000  26153.000000  ...  427.000000  256.389000  235.169000\n",
              "\n",
              "[8 rows x 7 columns]"
            ]
          },
          "metadata": {},
          "execution_count": 46
        }
      ]
    },
    {
      "cell_type": "code",
      "metadata": {
        "colab": {
          "base_uri": "https://localhost:8080/"
        },
        "id": "5MZCs19qZbN8",
        "outputId": "408980d7-a669-43a2-8e98-b9eee6fcab6e"
      },
      "source": [
        "data.dtypes"
      ],
      "execution_count": 47,
      "outputs": [
        {
          "output_type": "execute_result",
          "data": {
            "text/plain": [
              "Month             int64\n",
              "Year              int64\n",
              "ElantraSales      int64\n",
              "Unemployment    float64\n",
              "Queries           int64\n",
              "CPI.Energy      float64\n",
              "CPI.All         float64\n",
              "dtype: object"
            ]
          },
          "metadata": {},
          "execution_count": 47
        }
      ]
    },
    {
      "cell_type": "code",
      "metadata": {
        "colab": {
          "base_uri": "https://localhost:8080/"
        },
        "id": "Z1x8n6_iZdav",
        "outputId": "2c9c48e9-54d3-4fd2-e0bc-f043a89984b2"
      },
      "source": [
        "X = ['Unemployment', 'Queries', 'CPI.Energy', 'CPI.All'] #independent variables\n",
        "y = ['ElantraSales'] #dependent\n",
        "print(X)"
      ],
      "execution_count": 48,
      "outputs": [
        {
          "output_type": "stream",
          "name": "stdout",
          "text": [
            "['Unemployment', 'Queries', 'CPI.Energy', 'CPI.All']\n"
          ]
        }
      ]
    },
    {
      "cell_type": "code",
      "metadata": {
        "id": "yAV8xsrfaGaw"
      },
      "source": [
        "test_set = data.loc[data['Year'].isin([2013,2014])]\n",
        "training_set = data.loc[data['Year'].isin([2010,2011,2012])]"
      ],
      "execution_count": 49,
      "outputs": []
    },
    {
      "cell_type": "code",
      "metadata": {
        "id": "UaYxNqXpbAJJ"
      },
      "source": [
        "X_train = training_set[X].values\n",
        "y_train = training_set[y].values\n",
        "\n",
        "X_test = test_set[X].values\n",
        "y_test = test_set[y].values"
      ],
      "execution_count": 50,
      "outputs": []
    },
    {
      "cell_type": "code",
      "metadata": {
        "colab": {
          "base_uri": "https://localhost:8080/"
        },
        "id": "VMMzztj9h5IS",
        "outputId": "38d91b3f-b9cb-4841-88a4-fd3609723a10"
      },
      "source": [
        "regressor = LinearRegression()\n",
        "\n",
        "regressor.fit(X_train, y_train)\n",
        "\n",
        "print(regressor.coef_)"
      ],
      "execution_count": 51,
      "outputs": [
        {
          "output_type": "stream",
          "name": "stdout",
          "text": [
            "[[-3179.89957338    19.02968262    38.50603685  -297.6456256 ]]\n"
          ]
        }
      ]
    },
    {
      "cell_type": "code",
      "metadata": {
        "colab": {
          "base_uri": "https://localhost:8080/",
          "height": 488
        },
        "id": "1XcBsZI0iSQK",
        "outputId": "47e9b642-4ad5-4d59-d3c2-50e4412a0959"
      },
      "source": [
        "y_pred = regressor.predict(X_test)\n",
        "\n",
        "table = pd.DataFrame({'Actual':y_test[:,-1], 'Predected':y_pred[:,-1], 'Delta':y_test[:,-1]-y_pred[:,-1]})\n",
        "table"
      ],
      "execution_count": 66,
      "outputs": [
        {
          "output_type": "execute_result",
          "data": {
            "text/html": [
              "<div>\n",
              "<style scoped>\n",
              "    .dataframe tbody tr th:only-of-type {\n",
              "        vertical-align: middle;\n",
              "    }\n",
              "\n",
              "    .dataframe tbody tr th {\n",
              "        vertical-align: top;\n",
              "    }\n",
              "\n",
              "    .dataframe thead th {\n",
              "        text-align: right;\n",
              "    }\n",
              "</style>\n",
              "<table border=\"1\" class=\"dataframe\">\n",
              "  <thead>\n",
              "    <tr style=\"text-align: right;\">\n",
              "      <th></th>\n",
              "      <th>Actual</th>\n",
              "      <th>Predected</th>\n",
              "      <th>Delta</th>\n",
              "    </tr>\n",
              "  </thead>\n",
              "  <tbody>\n",
              "    <tr>\n",
              "      <th>0</th>\n",
              "      <td>12174</td>\n",
              "      <td>15129.324510</td>\n",
              "      <td>-2955.324510</td>\n",
              "    </tr>\n",
              "    <tr>\n",
              "      <th>1</th>\n",
              "      <td>15326</td>\n",
              "      <td>18419.265096</td>\n",
              "      <td>-3093.265096</td>\n",
              "    </tr>\n",
              "    <tr>\n",
              "      <th>2</th>\n",
              "      <td>16219</td>\n",
              "      <td>15944.282804</td>\n",
              "      <td>274.717196</td>\n",
              "    </tr>\n",
              "    <tr>\n",
              "      <th>3</th>\n",
              "      <td>16393</td>\n",
              "      <td>18137.600072</td>\n",
              "      <td>-1744.600072</td>\n",
              "    </tr>\n",
              "    <tr>\n",
              "      <th>4</th>\n",
              "      <td>26153</td>\n",
              "      <td>17834.798498</td>\n",
              "      <td>8318.201502</td>\n",
              "    </tr>\n",
              "    <tr>\n",
              "      <th>5</th>\n",
              "      <td>24445</td>\n",
              "      <td>16486.455078</td>\n",
              "      <td>7958.544922</td>\n",
              "    </tr>\n",
              "    <tr>\n",
              "      <th>6</th>\n",
              "      <td>25090</td>\n",
              "      <td>16519.780333</td>\n",
              "      <td>8570.219667</td>\n",
              "    </tr>\n",
              "    <tr>\n",
              "      <th>7</th>\n",
              "      <td>22163</td>\n",
              "      <td>17765.698374</td>\n",
              "      <td>4397.301626</td>\n",
              "    </tr>\n",
              "    <tr>\n",
              "      <th>8</th>\n",
              "      <td>23958</td>\n",
              "      <td>17429.427906</td>\n",
              "      <td>6528.572094</td>\n",
              "    </tr>\n",
              "    <tr>\n",
              "      <th>9</th>\n",
              "      <td>24700</td>\n",
              "      <td>17597.602366</td>\n",
              "      <td>7102.397634</td>\n",
              "    </tr>\n",
              "    <tr>\n",
              "      <th>10</th>\n",
              "      <td>19691</td>\n",
              "      <td>18044.124071</td>\n",
              "      <td>1646.875929</td>\n",
              "    </tr>\n",
              "    <tr>\n",
              "      <th>11</th>\n",
              "      <td>14876</td>\n",
              "      <td>16520.884462</td>\n",
              "      <td>-1644.884462</td>\n",
              "    </tr>\n",
              "    <tr>\n",
              "      <th>12</th>\n",
              "      <td>16751</td>\n",
              "      <td>17193.075808</td>\n",
              "      <td>-442.075808</td>\n",
              "    </tr>\n",
              "    <tr>\n",
              "      <th>13</th>\n",
              "      <td>21692</td>\n",
              "      <td>19043.202721</td>\n",
              "      <td>2648.797279</td>\n",
              "    </tr>\n",
              "  </tbody>\n",
              "</table>\n",
              "</div>"
            ],
            "text/plain": [
              "    Actual     Predected        Delta\n",
              "0    12174  15129.324510 -2955.324510\n",
              "1    15326  18419.265096 -3093.265096\n",
              "2    16219  15944.282804   274.717196\n",
              "3    16393  18137.600072 -1744.600072\n",
              "4    26153  17834.798498  8318.201502\n",
              "5    24445  16486.455078  7958.544922\n",
              "6    25090  16519.780333  8570.219667\n",
              "7    22163  17765.698374  4397.301626\n",
              "8    23958  17429.427906  6528.572094\n",
              "9    24700  17597.602366  7102.397634\n",
              "10   19691  18044.124071  1646.875929\n",
              "11   14876  16520.884462 -1644.884462\n",
              "12   16751  17193.075808  -442.075808\n",
              "13   21692  19043.202721  2648.797279"
            ]
          },
          "metadata": {},
          "execution_count": 66
        }
      ]
    },
    {
      "cell_type": "code",
      "metadata": {
        "colab": {
          "base_uri": "https://localhost:8080/"
        },
        "id": "Z_uL8Rm3ooAf",
        "outputId": "3eb71827-a00a-40a4-d710-9c8469e4589b"
      },
      "source": [
        "# mean squared error\n",
        "mse = np.mean((y_pred - y_test)**2)\n",
        "rmse = math.sqrt(mse)\n",
        "print('rmse=', rmse)\n",
        "\n",
        "# calculate R^2\n",
        "\n",
        "SSE = sum((y_test-y_pred)**2)\n",
        "SST = sum((y_test-np.mean(y_pred))**2)\n",
        "R_squared = 1- SSE/SST\n",
        "\n",
        "print('SSE=', SSE[0])\n",
        "print('SST=', SST[0])\n",
        "print('R^2=', R_squared[0])\n",
        "\n"
      ],
      "execution_count": 72,
      "outputs": [
        {
          "output_type": "stream",
          "name": "stdout",
          "text": [
            "rmse= 5017.347620904415\n",
            "SSE= 352432880.0859326\n",
            "SST= 376916334.4944349\n",
            "R^2= 0.0649572654932623\n"
          ]
        }
      ]
    }
  ]
}